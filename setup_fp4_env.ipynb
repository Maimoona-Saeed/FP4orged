{
  "nbformat": 4,
  "nbformat_minor": 0,
  "metadata": {
    "colab": {
      "provenance": []
    },
    "kernelspec": {
      "name": "python3",
      "display_name": "Python 3"
    },
    "language_info": {
      "name": "python"
    }
  },
  "cells": [
    {
      "cell_type": "markdown",
      "source": [
        "# ***FP4forged***\n",
        "\n",
        "> Advanced FP4 Quantization Pipeline for Efficient Multi-Modal LLMs on NVIDIA GPUs"
      ],
      "metadata": {
        "id": "H4KCXYALNpNC"
      }
    },
    {
      "cell_type": "code",
      "source": [
        "!pip install torch torchvision torchaudio --index-url https://download.pytorch.org/whl/cu121\n",
        "!pip install transformers datasets pillow accelerate huggingface_hub"
      ],
      "metadata": {
        "id": "zC4E0TdsWJAZ"
      },
      "execution_count": null,
      "outputs": []
    },
    {
      "cell_type": "code",
      "source": [
        "import os\n",
        "import sys\n",
        "import subprocess"
      ],
      "metadata": {
        "id": "t3ui07rqto4Y"
      },
      "execution_count": null,
      "outputs": []
    },
    {
      "cell_type": "code",
      "source": [
        "# 3.dependencies\n",
        "dependencies = [\n",
        "    ['torch', 'torchvision', 'torchaudio', '--index-url', 'https://download.pytorch.org/whl/cu121'],  # PyTorch\n",
        "    ['transformers'],  ['datasets'],  ['pillow'], ['scikit-learn'],  ['numpy'],  ['pandas'],  ['matplotlib'],   ['seaborn'],   ['streamlit'],   ['accelerate'],  ['huggingface_hub'] ]\n",
        "for pkg in dependencies:\n",
        "    subprocess.check_call(['pip', 'install'] + pkg)\n",
        "    print(f\"Installed: {pkg}\")"
      ],
      "metadata": {
        "id": "keTJcgZN5TlB"
      },
      "execution_count": null,
      "outputs": []
    },
    {
      "cell_type": "code",
      "source": [
        "env_path = os.path.join(os.getcwd(), 'fp4_env')\n",
        "if not os.path.exists(env_path):\n",
        "    venv.create(env_path, with_pip=True)\n",
        "    print(\"Virtual environment created at:\", env_path)\n",
        "else:\n",
        "    print(\"Virtual environment already exists.\")"
      ],
      "metadata": {
        "id": "io9JYH_n6tP-"
      },
      "execution_count": null,
      "outputs": []
    },
    {
      "cell_type": "code",
      "source": [
        "if sys.platform == \"win32\":\n",
        "    pip_path = os.path.join(env_path, 'Scripts', 'pip.exe')\n",
        "else:\n",
        "    pip_path = os.path.join(env_path, 'bin', 'pip')"
      ],
      "metadata": {
        "id": "LPu8XVYu6ueO"
      },
      "execution_count": null,
      "outputs": []
    },
    {
      "cell_type": "code",
      "source": [
        "from huggingface_hub import login\n",
        "\n",
        "token = input(\"Enter your Hugging Face token (from huggingface.co/settings/tokens): \")\n",
        "login(token)\n",
        "print(\"Hugging Face login complete.\")"
      ],
      "metadata": {
        "id": "7Xla34hP6xQu"
      },
      "execution_count": null,
      "outputs": []
    },
    {
      "cell_type": "code",
      "source": [
        "# 5. verification\n",
        "import torch\n",
        "import transformers\n",
        "import sklearn\n",
        "import numpy as np\n",
        "import pandas as pd\n",
        "import matplotlib.pyplot as plt\n",
        "import seaborn as sns\n",
        "print(\"Setup verified:\")\n",
        "print(f\"PyTorch: {torch.__version__}, CUDA available: {torch.cuda.is_available()}\")\n",
        "print(f\"Transformers: {transformers.__version__}\")\n",
        "print(f\"Scikit-learn: {sklearn.__version__}\")\n",
        "print(f\"NumPy: {np.__version__}, Pandas: {pd.__version__}\")\n",
        "print(f\"Matplotlib: {plt.matplotlib.__version__}, Seaborn: {sns.__version__}\")\n"
      ],
      "metadata": {
        "id": "flkp69916_X5"
      },
      "execution_count": null,
      "outputs": []
    },
    {
      "cell_type": "code",
      "source": [],
      "metadata": {
        "id": "LbYkl575ekup"
      },
      "execution_count": null,
      "outputs": []
    }
  ]
}